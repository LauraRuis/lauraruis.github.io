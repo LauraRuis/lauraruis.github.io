{
  "nbformat": 4,
  "nbformat_minor": 0,
  "metadata": {
    "colab": {
      "name": "highd.ipynb",
      "provenance": [],
      "collapsed_sections": []
    },
    "kernelspec": {
      "name": "python3",
      "display_name": "Python 3"
    },
    "language_info": {
      "name": "python"
    }
  },
  "cells": [
    {
      "cell_type": "markdown",
      "metadata": {
        "id": "usL_CwprdeEU"
      },
      "source": [
        "# Before we start...\n",
        "### Uncomment below to install cvxopt and qpsolvers"
      ]
    },
    {
      "cell_type": "code",
      "metadata": {
        "colab": {
          "base_uri": "https://localhost:8080/",
          "height": 613
        },
        "id": "36xCMB7adc6F",
        "outputId": "a363ab07-e912-4134-8493-3522e27bdf6e"
      },
      "source": [
        "# !sudo CVXOPT_BUILD_GLPK=1 pip install cvxopt\n",
        "# !pip install qpsolvers"
      ],
      "execution_count": 1,
      "outputs": [
        {
          "output_type": "stream",
          "name": "stdout",
          "text": [
            "Requirement already satisfied: cvxopt in /usr/local/lib/python3.7/dist-packages (1.2.7)\n",
            "Collecting qpsolvers\n",
            "  Downloading qpsolvers-1.7.1-py3-none-any.whl (35 kB)\n",
            "Requirement already satisfied: scipy>=1.3.3 in /usr/local/lib/python3.7/dist-packages (from qpsolvers) (1.4.1)\n",
            "Requirement already satisfied: qdldl>=0.1.5 in /usr/local/lib/python3.7/dist-packages (from qpsolvers) (0.1.5.post0)\n",
            "Collecting quadprog>=0.1.8\n",
            "  Downloading quadprog-0.1.10.tar.gz (121 kB)\n",
            "\u001b[K     |████████████████████████████████| 121 kB 13.4 MB/s \n",
            "\u001b[?25h  Installing build dependencies ... \u001b[?25l\u001b[?25hdone\n",
            "  Getting requirements to build wheel ... \u001b[?25l\u001b[?25hdone\n",
            "    Preparing wheel metadata ... \u001b[?25l\u001b[?25hdone\n",
            "Requirement already satisfied: Cython>=0.29.22 in /usr/local/lib/python3.7/dist-packages (from qpsolvers) (0.29.24)\n",
            "Collecting numpy>=1.20.2\n",
            "  Downloading numpy-1.21.4-cp37-cp37m-manylinux_2_12_x86_64.manylinux2010_x86_64.whl (15.7 MB)\n",
            "\u001b[K     |████████████████████████████████| 15.7 MB 54 kB/s \n",
            "\u001b[?25hBuilding wheels for collected packages: quadprog\n",
            "  Building wheel for quadprog (PEP 517) ... \u001b[?25l\u001b[?25hdone\n",
            "  Created wheel for quadprog: filename=quadprog-0.1.10-cp37-cp37m-linux_x86_64.whl size=290737 sha256=bb662568acbfa67c3f814b543f0355ba5318186ba95193be10e9f33e96ace996\n",
            "  Stored in directory: /root/.cache/pip/wheels/e9/af/76/c5335ed32afc1284e6100b86588d1f75f5c4906fa26df6efda\n",
            "Successfully built quadprog\n",
            "Installing collected packages: numpy, quadprog, qpsolvers\n",
            "  Attempting uninstall: numpy\n",
            "    Found existing installation: numpy 1.19.5\n",
            "    Uninstalling numpy-1.19.5:\n",
            "      Successfully uninstalled numpy-1.19.5\n",
            "\u001b[31mERROR: pip's dependency resolver does not currently take into account all the packages that are installed. This behaviour is the source of the following dependency conflicts.\n",
            "tensorflow 2.6.0 requires numpy~=1.19.2, but you have numpy 1.21.4 which is incompatible.\n",
            "datascience 0.10.6 requires folium==0.2.1, but you have folium 0.8.3 which is incompatible.\n",
            "albumentations 0.1.12 requires imgaug<0.2.7,>=0.2.5, but you have imgaug 0.2.9 which is incompatible.\u001b[0m\n",
            "Successfully installed numpy-1.21.4 qpsolvers-1.7.1 quadprog-0.1.10\n"
          ]
        },
        {
          "output_type": "display_data",
          "data": {
            "application/vnd.colab-display-data+json": {
              "pip_warning": {
                "packages": [
                  "numpy"
                ]
              }
            }
          },
          "metadata": {}
        }
      ]
    },
    {
      "cell_type": "markdown",
      "metadata": {
        "id": "knrokfoBdk06"
      },
      "source": [
        "### Import some stuff"
      ]
    },
    {
      "cell_type": "code",
      "metadata": {
        "id": "eOT9Y9c3dMlv"
      },
      "source": [
        "import sys\n",
        "import numpy as np\n",
        "import random\n",
        "import matplotlib.pyplot as plt\n",
        "from matplotlib import gridspec\n",
        "from scipy.spatial import Delaunay, ConvexHull, convex_hull_plot_2d\n",
        "from scipy.optimize import NonlinearConstraint, LinearConstraint, minimize\n",
        "from typing import Tuple\n",
        "import scipy.optimize as optimize\n",
        "from scipy.optimize import linprog\n",
        "from scipy.interpolate import interp1d\n",
        "from qpsolvers import solve_qp\n",
        "import quadprog\n",
        "import cvxopt\n",
        "from google.colab import files"
      ],
      "execution_count": 2,
      "outputs": []
    },
    {
      "cell_type": "markdown",
      "metadata": {
        "id": "56-B87FK1cC-"
      },
      "source": [
        "# Learning in High Dimension Always Amounts to Extrapolation\n",
        "\n",
        "\n",
        "---\n",
        "---\n",
        "Randall Balestriero, Jerome Pesenti, and Yann LeCun\n",
        "\n",
        "Below I'll try to reproduce Figure 1 of [this paper](https://arxiv.org/pdf/2110.09485.pdf).\n",
        "\n",
        "![im](https://drive.google.com/uc?export=view&id=16XZ8qW7h8-D-KqbUMBYi833TKupBzmte)\n",
        "\n",
        "This plot has a lot going on, all of which I will try to explain below, namely:\n",
        "\n",
        "- Ambient dimension $d$\n",
        "- Probability of lying in the convex hull $p(x \\in \\text{Hull}(\\mathbf{X}))$\n",
        "- Number of hull data points $N$\n",
        "\n",
        "And other things that aren't apparent directly from the image but do play a role:  \n",
        "\n",
        "- Convex hull dimension $d^*$\n",
        "- Intrinsic dimension $\\bar{d}$\n",
        "\n",
        "In normal(ish) words, what this plot is supposed to convey is that\n",
        "\n",
        "***no matter the dimensionality of the manifold your data lies on, if you increase the dimensionality in which you represent your data, and with that the dimensionality of the interpolation regime of your data, you need exponentially more data points to keep the same probability of a new sample being an interpolation of the training samples.***\n",
        "\n",
        "And then the rightmost plot shows that if you do keep the dimensionality of the interpolation regime of your data fixed, the probability of being in this regime stays the same for increased ambient dimension $d$.\n",
        "\n",
        "Below we'll explain what is going on in the terminology of the paper.\n",
        "\n",
        "# Reproducing the first plot\n",
        "---\n",
        "For the first plot (the leftmost in Figure 1) what the authors do is the following. \n",
        "\n",
        "\n",
        "They use 500,000 trials to estimate the probability of being in the convex hull for a new sample. In every trial, they sample $N$ times from a Gaussian density $\\mathbf{x}_i \\sim \\mathcal{N}(0, \\mathbb{I}_d)$; these samples will form the convex hull. Then, they sample a new data point from that Gaussian\n",
        "and calculate whether it falls inside the convex hull (below we implement multiple ways to find out whether a point falls inside the convex hull). This will give in the end a vector of 500000 true's (inside the hull) and falses (outside the hull) that gives a probability.\n",
        "\n",
        "What we will implement for the first figure below is the following:\n",
        "\n",
        "- `sample_from_gaussian`: a function to sample from a multivariate Gaussian\n",
        "- `is_in_convex_hull_batch`: returns vector of true's and falses that specify whether each sample in a batch of new vectors fall inside the convex hull\n",
        "- `probability_in_convex_hull_batch`: returns the estimated probability that a new sample lies in the convex hull.\n",
        "\n",
        "**CAVEAT**: since the code is already slow due to this convex hull calculation, we cheat the estimate slightly by only sampling the convex hull samples once, and then finding out whether all new vectors are in this convex hull at once.\n"
      ]
    },
    {
      "cell_type": "code",
      "metadata": {
        "id": "-0Hp-jwcUq7j"
      },
      "source": [
        "def sample_from_gaussian(num_samples: int, num_dimensions: int, mu=0,\n",
        "                         sigma=1) -> np.array:\n",
        "  \"\"\"\n",
        "  Sample num_samples from a multivariate Gaussian with `num_dimensions`\n",
        "  independent dimensions.\n",
        "\n",
        "  Returns: [num_samples, num_dimensions] gaussian samples.\n",
        "  \"\"\"\n",
        "  mu, sigma = np.zeros(num_dimensions) + mu, np.identity(num_dimensions) * sigma\n",
        "  return np.random.multivariate_normal(mu, sigma, num_samples)"
      ],
      "execution_count": 7,
      "outputs": []
    },
    {
      "cell_type": "markdown",
      "metadata": {
        "id": "XkxlUA0d4kZh"
      },
      "source": [
        "Plotting the data we see that everything is normally distributed."
      ]
    },
    {
      "cell_type": "code",
      "metadata": {
        "colab": {
          "base_uri": "https://localhost:8080/",
          "height": 265
        },
        "id": "1Na-WN2hRISz",
        "outputId": "7f418582-294a-4457-8b22-3b370f2d70f3"
      },
      "source": [
        "samples = sample_from_gaussian(1000, 3)\n",
        "plt.hist(samples[:, 0], bins=25, density=True, alpha=0.5, color='g')\n",
        "plt.hist(samples[:, 1], bins=25, density=True, alpha=0.5, color='b')\n",
        "plt.hist(samples[:, 2], bins=25, density=True, alpha=0.5, color='r')\n",
        "plt.show()"
      ],
      "execution_count": 8,
      "outputs": [
        {
          "output_type": "display_data",
          "data": {
            "image/png": "[encoded data removed]",
            "text/plain": [
              "<Figure size 432x288 with 1 Axes>"
            ]
          },
          "metadata": {
            "needs_background": "light"
          }
        }
      ]
    },
    {
      "cell_type": "markdown",
      "metadata": {
        "id": "qRFxJnRDtZqI"
      },
      "source": [
        "## Probability of lying in the convex hull\n",
        "A vector $\\mathbf{x}$ lies within the convex hull spanned by samples $\\mathbf{x}_1, \\dots, \\mathbf{x}_N \\in \\mathbb{R}^d$ if we can write it as a convex combination of the samples $\\mathbf{x} = \\lambda_1\\mathbf{x}_1 + \\dots + \\lambda_N\\mathbf{x}_N$ subject to $\\lambda_i \\geq 0$ and $\\sum_i \\lambda_i = 1$.\n",
        "\n",
        "Let's see what this means in a dimensionality that we can still visualize:\n",
        "\n",
        "Below we can see a 2-dimensional convex hull for 4 samples, one point inside the hull,\n",
        "and one point outside of the hull. The point inside the hull is a convex combination of the hull points, and the point outside the hull is an affine/linear combination."
      ]
    },
    {
      "cell_type": "code",
      "metadata": {
        "colab": {
          "base_uri": "https://localhost:8080/",
          "height": 269
        },
        "id": "Ct6fzIOFvk9v",
        "outputId": "5dc9edd2-c4dd-4a72-ece0-5f9990b03693"
      },
      "source": [
        "hull_samples = np.array([[1, 1],\n",
        "                         [2, 1],\n",
        "                         [2, 2],\n",
        "                         [1, 2]])\n",
        "                         \n",
        "# Here's a point that is a convex combination of the hull samples ..\n",
        "point_in_hull = np.array([[1.5, 1.5]])\n",
        "\n",
        "# .. and here's one that isn't.\n",
        "point_outside_hull = np.array([[2.5, 2]])\n",
        "\n",
        "# Calculate the convex hull with scipy.spatial.ConvexHull\n",
        "hull = ConvexHull(hull_samples)\n",
        "\n",
        "# Let's plot it.\n",
        "plt.plot(hull_samples[:, 0], hull_samples[:, 1], 'o', c='navy')\n",
        "plt.plot(point_in_hull[:, 0], point_in_hull[:, 1], 'o', c='lightgreen')\n",
        "plt.plot(point_outside_hull[:, 0], point_outside_hull[:, 1], 'o', c='tomato')\n",
        "for simplex in hull.simplices:\n",
        "  plt.plot(hull_samples[simplex, 0], hull_samples[simplex, 1], 'k')\n",
        "\n",
        "plt.xlim(0, 3)\n",
        "plt.ylim(0, 3)\n",
        "plt.show()"
      ],
      "execution_count": 9,
      "outputs": [
        {
          "output_type": "display_data",
          "data": {
            "image/png": "[encoded data removed]",
            "text/plain": [
              "<Figure size 432x288 with 1 Axes>"
            ]
          },
          "metadata": {
            "needs_background": "light"
          }
        }
      ]
    },
    {
      "cell_type": "markdown",
      "metadata": {
        "id": "l2tve0E0cAU4"
      },
      "source": [
        "So let's say we sample points uniformly between 0 and 3 for both dimensions, then the probability of a new sample to lie within the convex hull from this subspace is the area of the convex hull divided by the total area:\n",
        "\n",
        "$p(\\mathbf{y} \\in \\text{Hull}(\\mathbf{X})) = \\frac{1}{9}$.\n",
        "\n",
        "In general, for a convex hull with area $c$ in $\\mathbb{R}^2$ and data points between $[x_0, x_1]$ the probability of lying in the convex hull is $\\frac{c}{(x_1 - x_0)^2}$.\n",
        "\n",
        "## The Curse of Dimensionality\n",
        "\n",
        "Now let's move to 3 dimensions, and stretch the convex hull out in the Z-direction to get a cube instead of the square above."
      ]
    },
    {
      "cell_type": "code",
      "metadata": {
        "colab": {
          "base_uri": "https://localhost:8080/",
          "height": 248
        },
        "id": "IYUNH_T2H6Md",
        "outputId": "cc98e5af-65c9-451c-b56a-312b938f8a0b"
      },
      "source": [
        "fig = plt.figure()\n",
        "ax = plt.axes(projection='3d')\n",
        "\n",
        "# Make the cube of 3D hull points (8 points, each is a corner of the cube).\n",
        "X = np.array([1, 2, 2, 1, 1, 2, 2, 1])\n",
        "Y = np.array([1, 1, 2, 2, 1, 1, 2, 2])\n",
        "Z = np.array([1, 1, 1, 1, 2, 2, 2, 2])\n",
        "\n",
        "# Set the same limits as the 2D example.\n",
        "ax.set_xlim(0, 3)\n",
        "ax.set_ylim(0, 3)\n",
        "ax.set_zlim(0, 3)\n",
        "\n",
        "# A function to get a convex combination of a set of points.\n",
        "def convex_combination(points):\n",
        "  lambdas = np.random.randint(0, 10, len(points))\n",
        "  lambdas_n = lambdas / np.sum(lambdas)\n",
        "  return np.dot(points.transpose([1, 0]), lambdas_n)\n",
        "\n",
        "# A function to get an affine combination of a set of points \n",
        "# that is *not* a convex combination.\n",
        "def affine_combination(points):\n",
        "  lambdas = np.random.randint(0, 10, len(points))\n",
        "  lambdas_n = lambdas / np.sum(lambdas)\n",
        "  offset = np.random.choice([np.random.uniform(-0.1, -0.02),\n",
        "                             np.random.uniform(0.02, 0.1)])\n",
        "  lambdas_n = lambdas_n + offset\n",
        "  return np.dot(points.transpose([1, 0]), lambdas_n)\n",
        "\n",
        "# Plot some convex combinations of the hull data points.\n",
        "for i in range(10):\n",
        "  num_points = np.random.randint(5, 8, 1)\n",
        "  point_indices = np.random.randint(0, 8, num_points)\n",
        "  points = np.array([X[point_indices], \n",
        "                     Y[point_indices], \n",
        "                     Z[point_indices]]).transpose([1, 0])\n",
        "  new_point = convex_combination(points)\n",
        "  ax.scatter(*new_point, c='lightgreen', zorder=2.5)\n",
        "\n",
        "# Plot some affine combinations of the hull data points.\n",
        "for i in range(10):\n",
        "  num_points = np.random.randint(5, 8, 1)\n",
        "  point_indices = np.random.randint(0, 8, num_points)\n",
        "  points = np.array([X[point_indices], \n",
        "                     Y[point_indices], \n",
        "                     Z[point_indices]]).transpose([1, 0])\n",
        "  new_point = affine_combination(points)\n",
        "  ax.scatter(*new_point, c='tomato', zorder=12.5)\n",
        "\n",
        "# Plot the box around the convex hull.\n",
        "ax.plot(X, Y, Z, 'o', c='navy', zorder=7.5)\n",
        "for i in range(4):\n",
        "  idx = i\n",
        "  idx_right = (idx + 1) % 4\n",
        "  ax.plot([X[idx], X[idx_right]],\n",
        "          [Y[idx], Y[idx_right]],\n",
        "          [Z[idx], Z[idx_right]], color = 'k', zorder=10)\n",
        "  ax.plot([X[idx+4], X[idx_right+4]],\n",
        "          [Y[idx+4], Y[idx_right+4]],\n",
        "          [Z[idx+4], Z[idx_right+4]], color = 'k', zorder=10)\n",
        "  ax.plot([X[idx], X[idx_right+3]],\n",
        "          [Y[idx], Y[idx_right+3]],\n",
        "          [Z[idx], Z[idx_right+3]], color = 'k', zorder=10)\n",
        "plt.show()"
      ],
      "execution_count": 11,
      "outputs": [
        {
          "output_type": "display_data",
          "data": {
            "image/png": "[encoded data removed]",
            "text/plain": [
              "<Figure size 432x288 with 1 Axes>"
            ]
          },
          "metadata": {
            "needs_background": "light"
          }
        }
      ]
    },
    {
      "cell_type": "markdown",
      "metadata": {
        "id": "rAAC4oixeOL7"
      },
      "source": [
        "This cube still has a volume of 1, but now the probability of lying within this cube has become:\n",
        "\n",
        "$p(\\mathbf{y} \\in \\text{Hull}(\\mathbf{X})) = \\frac{1}{27}$\n",
        "\n",
        "In general, for a convex hull with area $c$ in $\\mathbb{R}^3$ and data points between $[x_0, x_1]$ the probability of lying in the convex hull is $\\frac{c}{(x_1 - x_0)^3}$. This gives part of the intuition as to why the probability of lying within the convex hull quickly goes down as the dimensionality of the problem goes up."
      ]
    },
    {
      "cell_type": "markdown",
      "metadata": {
        "id": "R67rDP0Gfg-6"
      },
      "source": [
        "This intuition is formalized in the paper by a theorem describing the limiting behaviour of the probability of lying in\n",
        " the convex hull for new (i.i.d.) samples from a Gaussian.\n",
        "\n",
        "**Theorem 1** (Baranay and Furedi, 1988). Given a $d$-dimensional dataset \n",
        "$\\mathbf{X} \\triangleq \\{\\mathbf{x}_1, \\dots, \\mathbf{x}_N\\}$ with i.i.d. samples $\\mathbf{x}_n \\sim \\mathcal{N}(0, \\mathbb{I}_d)$,\n",
        "for all $n$, the probability that a new sample $\\mathbf{x} \\sim \\mathcal{N}(0, \\mathbb{I}_d)$ is in interpolation regime\n",
        "(recall Def. 1) has the following limiting behavior\n",
        "\n",
        "$$\\lim_{d \\rightarrow \\infty} p(\\mathbf{x} \\in \\text{Hull}(\\mathbf{X})) = \\begin{cases} \n",
        "      1 & \\text{if } N > d^{-1}2^{d/2} \\\\\n",
        "      0 & \\text{if } N < d^{-1}2^{d/2} \n",
        "   \\end{cases}\n",
        "$$\n",
        "\n",
        "This theorem says that the probability that a new sample lies in the convex hull of $N$ samples  \n",
        " tends to one for increasing dimensions if $N > d^{-1}2^{d/2}$, but if $N$ is smaller, it tends to 0. This means\n",
        "we need to exponentially increase the number of datapoints $N$ for increasing $d$ if we want to have a chance at \n",
        "being in interpolation regime. See below this boundary of minimal $N$ needed\n",
        " plotted ($N = d^{-1}2^{d/2}$)."
      ]
    },
    {
      "cell_type": "code",
      "metadata": {
        "colab": {
          "base_uri": "https://localhost:8080/",
          "height": 282
        },
        "id": "x6_JWbi8zW42",
        "outputId": "7adccac5-3b89-4441-8f25-4e67ec6dfc21"
      },
      "source": [
        "d = np.linspace(1, 50)\n",
        "\n",
        "def need_number_datapoints(d: np.array):\n",
        "  return (1 / d) * 2**(d / 2)\n",
        "\n",
        "plt.plot(d, need_number_datapoints(d))\n",
        "plt.xlabel(\"d\")\n",
        "plt.ylabel(\"N\")\n",
        "plt.subplots_adjust(left=0.2)\n",
        "plt.show()"
      ],
      "execution_count": 12,
      "outputs": [
        {
          "output_type": "display_data",
          "data": {
            "image/png": "[encoded data removed]",
            "text/plain": [
              "<Figure size 432x288 with 1 Axes>"
            ]
          },
          "metadata": {
            "needs_background": "light"
          }
        }
      ]
    },
    {
      "cell_type": "markdown",
      "metadata": {
        "id": "Ram0_USOx3kb"
      },
      "source": [
        "## Does a new point lie in the convex hull?\n",
        "\n",
        "Now to find out whether a new point $\\mathbf{x}$ is in the convex hull we just need to find out whether it is a convex combination of the hull samples, which can be framed as a quadratic programming problem, which we will do for the second plot below, but for the first plot we can use a very simple batched implementation using SciPy. The QP problem is necessary for the second plot since the method used below does not work for degenerate convex hull spaces, which will be the case for the second plot (lower intrinsic dimension than ambient dimension).\n",
        "\n",
        "Below we use a batched implementation of finding whether points lie in the convex hull by relying on [scipy.Delaunay](https://docs.scipy.org/doc/scipy/reference/generated/scipy.spatial.Delaunay.html)."
      ]
    },
    {
      "cell_type": "code",
      "metadata": {
        "id": "1_pMne0CSvmI"
      },
      "source": [
        "def is_in_convex_hull_batch(new_samples: np.array, \n",
        "                            hull_samples: np.array) -> np.array:\n",
        "  \"\"\"\n",
        "  Returns a vector of size new_samples.shape[0] (the number of new samples),\n",
        "  with a boolean indicating whether or not the sample lies in the convex hull.\n",
        "  \"\"\"\n",
        "  assert new_samples.shape[1] == hull_samples.shape[1],  \\\n",
        "  \"Dimensions of new sample and convex hull samples should be the same, \"\n",
        "  \"but are %d and %d\" % (new_samples.shape[1], samples.shape[1])\n",
        "  if not isinstance(hull_samples, Delaunay):\n",
        "    hull = Delaunay(hull_samples)\n",
        "  return hull.find_simplex(new_samples) >= 0\n",
        "\n",
        "def probability_in_convex_hull_batch(new_samples: np.array, \n",
        "                                     hull_samples: np.array) -> float:\n",
        "  \"\"\"\n",
        "  The first dimension is the number of new samples, the second dimension\n",
        "  is the dimensionality of the vector.\n",
        "  \"\"\"\n",
        "  in_convex_hull = is_in_convex_hull_batch(new_samples, hull_samples)\n",
        "  return np.sum(in_convex_hull) / new_samples.shape[0]"
      ],
      "execution_count": 13,
      "outputs": []
    },
    {
      "cell_type": "markdown",
      "metadata": {
        "id": "I-hatqtSt0Eg"
      },
      "source": [
        "Let's see if it works for the 2D hull we defined above. In addition to the point inside and the point outside the hull above, let's add 2 more points outside the hull to get a probability of being inside the hull of $\\frac{1}{4}$."
      ]
    },
    {
      "cell_type": "code",
      "metadata": {
        "colab": {
          "base_uri": "https://localhost:8080/"
        },
        "id": "pR6B_gZcx9Kh",
        "outputId": "389487ae-be51-4493-e08f-fb0813fe25bb"
      },
      "source": [
        "point_in_hull = np.array([1.3, 1.8])\n",
        "point_outside_hull = np.array([3, 2])\n",
        "point_outside_hull_2 = np.array([4, 2])\n",
        "point_outside_hull_3 = np.array([0, 2])\n",
        "points = np.concatenate([np.expand_dims(point_in_hull, axis=0),\n",
        "                         np.expand_dims(point_outside_hull, axis=0),\n",
        "                         np.expand_dims(point_outside_hull_2, axis=0),\n",
        "                         np.expand_dims(point_outside_hull_3, axis=0)], axis=0)\n",
        "print(\"Probability inside hull (batch method): \", \n",
        "      probability_in_convex_hull_batch(points, hull_samples))"
      ],
      "execution_count": 14,
      "outputs": [
        {
          "output_type": "stream",
          "name": "stdout",
          "text": [
            "Probability inside hull (batch method):  0.25\n"
          ]
        }
      ]
    },
    {
      "cell_type": "markdown",
      "metadata": {
        "id": "BtVruRq4syzV"
      },
      "source": [
        "## Reproducing the plot\n",
        "\n",
        "Now let's try to reproduce the left plot of Figure 1. To do this,\n",
        "we sample $N$ points for an ambient dimension $d$ from a multivariate Gaussian $\\mathcal{N}(\\mathbf{0}, \\mathbb{I}_d)$. These points form the convex hull. Then we sample 500000 new points (`num_trials`) from the same Gaussian, and see whether they fall within the hull, or outside, to estimate the probability of being inside the convex hull.\n",
        "\n",
        "We do this for different $N$ per dimensions $d \\in \\{2, \\dots, 7\\}$. The N below (in `num_convex_hull_samples_per_dim`) are chosen to roughly be the same as in the plot (I eyeballed it).\n",
        "\n",
        "**NB**: note that the code below runs reasonably quick for dimensions 2 to 6, but takes a few minutes for dimensions = 7."
      ]
    },
    {
      "cell_type": "code",
      "metadata": {
        "colab": {
          "base_uri": "https://localhost:8080/"
        },
        "id": "vTyajspmRZGS",
        "outputId": "6fc4ca48-e959-4926-cccc-35d34f17a043"
      },
      "source": [
        "\n",
        "# The different ambient dimensions that we will consider.\n",
        "ambient_dimensions = list(range(2, 8))\n",
        "\n",
        "# The different values for N that we will consider.\n",
        "num_dataset_sizes = 10\n",
        "num_convex_hull_samples_per_dim = [np.logspace(0.5, 1.8, num_dataset_sizes),\n",
        "                                   np.logspace(1, 2, num_dataset_sizes),\n",
        "                                   np.logspace(1.2, 2.1, num_dataset_sizes),\n",
        "                                   np.logspace(1.5, 2.2, num_dataset_sizes),\n",
        "                                   np.logspace(2, 2.5, num_dataset_sizes),\n",
        "                                   np.logspace(2.1, 3, num_dataset_sizes)]\n",
        "num_trials = 500000\n",
        "\n",
        "def get_convex_hull_probability_gaussian(num_trials: int, dataset_size: int, \n",
        "                                         ambient_dimension: int) -> float:\n",
        "  \"\"\"Samples `dataset_size` samples from a Gaussian of dimension \n",
        "  `ambient_dimension`, and then calculates for `num_trials` new samples\n",
        "  whether they lie on the convex hull or not. Returns the estimated\n",
        "  probability that a new sample lies in the convex hull.\"\"\"\n",
        "  convex_hull_samples =  sample_from_gaussian(num_samples=dataset_size, \n",
        "                                              num_dimensions=ambient_dimension)\n",
        "  new_samples = sample_from_gaussian(num_samples=num_trials, \n",
        "                                     num_dimensions=ambient_dimension)\n",
        "  p_new_samples_in_hull = probability_in_convex_hull_batch(\n",
        "      new_samples=new_samples, hull_samples=convex_hull_samples)\n",
        "  return p_new_samples_in_hull\n",
        "\n",
        "# For each ambient dimension d, get the probability that a new sample lies in\n",
        "# the convex hull per value for N.\n",
        "all_probabilities = np.zeros([len(ambient_dimensions),\n",
        "                              num_dataset_sizes])\n",
        "for dimension_idx, dimension in enumerate(ambient_dimensions):\n",
        "  print(\"Working on %d-D\" % dimension)\n",
        "  num_convex_hull_samples = num_convex_hull_samples_per_dim[dimension_idx]\n",
        "  for size_idx, dataset_size in enumerate(num_convex_hull_samples):\n",
        "    probability_in_hull = get_convex_hull_probability_gaussian(\n",
        "        num_trials, int(dataset_size), dimension)\n",
        "    all_probabilities[dimension_idx, size_idx] = probability_in_hull"
      ],
      "execution_count": 15,
      "outputs": [
        {
          "output_type": "stream",
          "name": "stdout",
          "text": [
            "Working on 2-D\n",
            "Working on 3-D\n",
            "Working on 4-D\n",
            "Working on 5-D\n",
            "Working on 6-D\n",
            "Working on 7-D\n"
          ]
        }
      ]
    },
    {
      "cell_type": "markdown",
      "metadata": {
        "id": "AaFa7FD4wLNp"
      },
      "source": [
        "Now we can reproduce the left plot in Figure 1 with the code below."
      ]
    },
    {
      "cell_type": "code",
      "metadata": {
        "id": "rpTKkdh10i0C"
      },
      "source": [
        "def plot_probabilities(x_space_per_dimension, dimensions, probabilities):\n",
        "  \"\"\"\n",
        "  x_space_per_dimension: [len(dimensions)] an np.logspace per dimension\n",
        "  dimensions: the different dimensions to be plotted on the Y-axis\n",
        "  probabilities: [num_dimensions, num_dataset_sizes] convex hull probabilities\n",
        "  \"\"\"\n",
        "  num_dimensions = len(dimensions)\n",
        "  fig = plt.figure()\n",
        "\n",
        "  # All stacked plots equally high.\n",
        "  gridspecs = gridspec.GridSpec(num_dimensions, 1, \n",
        "                                height_ratios=[1] * num_dimensions) \n",
        "\n",
        "  # Loop over the grids and plot the probabilities for a dimension in each.\n",
        "  colors = [\"b\", \"orange\", \"g\", \"r\", \"purple\", \"brown\"]\n",
        "  for i, ax in enumerate(reversed(list(gridspecs))):\n",
        "    x = x_space_per_dimension[i]\n",
        "    ax = plt.subplot(ax)\n",
        "    ax.set_xscale(\"log\")\n",
        "    ax.set_xlim(1, 10**3)  # Hardcode the limits for each subplots here.\n",
        "    ax.scatter(x, probabilities[i], color=colors[i])\n",
        "    ax.set_ylim(0, 1)\n",
        "\n",
        "    # Only add the Y tick for p=1 at the topmost subplot.\n",
        "    if i < (dimensions[-1] - dimensions[0]):\n",
        "      ax.set_yticks([0, 0.5], minor=False)\n",
        "    else:\n",
        "      ax.set_yticks([0, 0.5, 1], minor=False)\n",
        "    \n",
        "    # Only add the X ticks for the bottom subplot.\n",
        "    if i != 0:\n",
        "      ax.set_xticks([])\n",
        "    else:\n",
        "      ax.set_xlabel('log(N)', fontsize = 12)\n",
        "      ax.xaxis.set_label_coords(0.5, -0.655)\n",
        "\n",
        "    # Some annotations\n",
        "    plt.axhline(y=0.5, color='black', linestyle='--')\n",
        "    plt.text(10**3+500,0.5,'d=%d' % dimensions[i] ,rotation=0)\n",
        "\n",
        "  # remove vertical gap between subplots\n",
        "  plt.ylabel(\"p(x in Hull)\", fontsize=12)\n",
        "  plt.subplots_adjust(hspace=.0)"
      ],
      "execution_count": 17,
      "outputs": []
    },
    {
      "cell_type": "code",
      "metadata": {
        "colab": {
          "base_uri": "https://localhost:8080/",
          "height": 300
        },
        "id": "p_7Z9BdhmZWr",
        "outputId": "8bda80d7-6c8e-40b7-ca86-e0b7614ee21f"
      },
      "source": [
        "plot_probabilities(x_space_per_dimension=num_convex_hull_samples_per_dim,\n",
        "                   dimensions=ambient_dimensions,\n",
        "                   probabilities=all_probabilities)\n",
        "plt.show()"
      ],
      "execution_count": 18,
      "outputs": [
        {
          "output_type": "display_data",
          "data": {
            "image/png": "[encoded data removed]",
            "text/plain": [
              "<Figure size 432x288 with 6 Axes>"
            ]
          },
          "metadata": {
            "needs_background": "light"
          }
        }
      ]
    },
    {
      "cell_type": "markdown",
      "metadata": {
        "id": "jJHBLvQby-Hs"
      },
      "source": [
        "# Reproducing the second plot\n",
        "---\n",
        "\n",
        "Now let's reproduce the second plot in Figure 1. For this we want to sample from a nonlinear continuous 1-dimensional data manifold, but we want to increase\n",
        "the ambient dimension. \n",
        "\n",
        "To get a 1D nonlinear continuous manifold that will have an ambient dimension of $d$ we take the following steps:\n",
        "\n",
        "- Sample $d$ independent Gaussian points.\n",
        "- Interpolate between these points with a spline to get a 1D data manifold.\n",
        "- Sample from a uniform distribution between 0 and 1 and put these through the spline to get our samples.\n",
        "\n",
        "These samples are now taken from a spline $f: \\mathbb{R} \\rightarrow \\mathbb{R}^{d}$, meaning the ambient dimension will be $d$, whereas the intrinsic dimension is 1.\n",
        "\n",
        "**Why would this work?**\n",
        "\n",
        "This works because the chances of sampling a point from a Gaussian that's overlapping with a previous point is zero,\n",
        "so with every point that we sample we increase the dimensionality the spline moves through.\n",
        "\n",
        "Let's implement it below.\n"
      ]
    },
    {
      "cell_type": "code",
      "metadata": {
        "id": "tbQC_b-CDl0C"
      },
      "source": [
        "def construct_one_dimensional_manifold(ambient_dimension: int):\n",
        "  \"\"\"\n",
        "  ambient_dimension: what dimension should the data be represented in\n",
        "\n",
        "  Returns: The spline function f: R -> R^ambient_dimension.\n",
        "  \"\"\"\n",
        "  # We take dimensions+2 for the dimension of the Gaussian because otherwise \n",
        "  # the scipy interp1d function doesn't work.\n",
        "  gaussian_points = sample_from_gaussian(num_samples=ambient_dimension, \n",
        "                                         num_dimensions=ambient_dimension+2)\n",
        "  x = np.linspace(0, 1, num=ambient_dimension+2, endpoint=True)\n",
        "  f = interp1d(x, gaussian_points, kind='cubic')\n",
        "  return f\n",
        "\n",
        "def sample_from_one_dimensional_manifold(manifold_func, num_samples):\n",
        "  return manifold_func(np.random.uniform(low=0, high=1, size=num_samples))"
      ],
      "execution_count": 16,
      "outputs": []
    },
    {
      "cell_type": "markdown",
      "metadata": {
        "id": "BWlTkgEn49ZD"
      },
      "source": [
        "See below what this looks like for a 1D manifold with a 2D convex hull. You can change the convex hull dimension below to see that if you increase it to, say, 10, the spline looks much more wobbly."
      ]
    },
    {
      "cell_type": "code",
      "metadata": {
        "colab": {
          "base_uri": "https://localhost:8080/",
          "height": 265
        },
        "id": "KR_tmiu64KLF",
        "outputId": "29dc054c-0aad-4cdc-c699-2be9217fd99e"
      },
      "source": [
        "spline = construct_one_dimensional_manifold(ambient_dimension=10)\n",
        "\n",
        "# Plot some samples from this manifold.\n",
        "x = np.linspace(0, 1, num=10, endpoint=True)\n",
        "plt.plot(spline(x)[0, :], spline(x)[1, :])\n",
        "plt.show()"
      ],
      "execution_count": 19,
      "outputs": [
        {
          "output_type": "display_data",
          "data": {
            "image/png": "[encoded data removed]",
            "text/plain": [
              "<Figure size 432x288 with 1 Axes>"
            ]
          },
          "metadata": {
            "needs_background": "light"
          }
        }
      ]
    },
    {
      "cell_type": "markdown",
      "metadata": {
        "id": "d5oCftgMIspA"
      },
      "source": [
        "# Does it lie in the convex hull? A QP problem"
      ]
    },
    {
      "cell_type": "markdown",
      "metadata": {
        "id": "MPLf7EdWN7ME"
      },
      "source": [
        "Unfortunately, the batched method for finding out whether a new point lies inside the convex hull doesn't work anymore. This is because the fact that our samples all come from a 1D manifold causes geometric degeneracy. From the scipy docs:\n",
        "\n",
        "```QhullError \n",
        "Raised when Qhull encounters an error condition, such as geometrical degeneracy when options to resolve are not enabled.```\n",
        "\n",
        "Instead, we will frame it as a quadratic programming problem and solve it with a GP solver that can handle degeneracy. \n",
        "\n",
        "We want to find the coefficients such that $\\lambda_1 \\mathbf{x}_1 + \\dots + \\lambda_N \\mathbf{x}_N = \\mathbf{y}$, which would mean the new point $\\mathbf{y}$ lies in the convex hull. Ofcourse, the constraints on the $\\lambda$'s also need to be taken care of. If we cannot find these coefficients, then the point does not lie on the convex hull.\n",
        "\n",
        "\n",
        "Let's define the following:\n",
        "- $N$ the number of convex hull samples\n",
        "- $d^*$ the dimension of the convex hull (in this case equals the ambient dimension)\n",
        "- $\\boldsymbol{\\lambda} \\in \\mathbb{R}^{N}$ the convex combination coefficients\n",
        "- the convex hull samples $\\mathbf{X} \\in \\mathbb{R}^{N \\times d}$\n",
        "- the new sample $\\mathbf{y} \\in \\mathbb{R}^d$\n",
        "\n",
        "Our quadratic program problem is the following:\n",
        "\n",
        "$$\\begin{align}\n",
        "\\text{min}_{\\boldsymbol{\\lambda}} &\\left(\\mathbf{X}^T\\boldsymbol{\\lambda} - \\mathbf{y}\\right)^T \\left(\\mathbf{X}^T\\boldsymbol{\\lambda} - \\mathbf{y}\\right) \\\\\n",
        "s.t. & \\sum_i \\lambda_i = 1 \\\\\n",
        "& \\lambda_i \\geq 0 \n",
        "\\end{align}$$\n",
        "\n",
        "We can rewrite the objective to the [standard form](https://scaron.info/blog/quadratic-programming-in-python.html) as follows:\n",
        "\n",
        "$$\\begin{align}\n",
        "\\text{min}_{\\boldsymbol{\\lambda}} &\\frac{1}{2}\\boldsymbol{\\lambda}^T(\\mathbf{X}\\mathbf{X}^T)\\boldsymbol{\\lambda} + (-\\mathbf{X}\\mathbf{y})^T\\boldsymbol{\\lambda}\n",
        "\\end{align}$$\n",
        "\n",
        "(the above follows from the fact that multiplying by a constant doesn't change the objective, and neither does a constant addition)\n",
        "\n",
        "Then to rewrite the inequality constraints into the form $G\\boldsymbol{\\lambda} \\leq h$,\n",
        "we make the matrix G as follows:\n",
        "\n",
        "$G = \\begin{pmatrix}\n",
        "-1 & 0 & 0 & 0 \\\\ \n",
        "0 & -1 & 0 & 0\\\\ \n",
        "0 & 0 & -1 & 0\\\\ \n",
        "0 & 0 & 0 & -1\n",
        "\\end{pmatrix}$\n",
        "\n",
        "and the vector h:\n",
        "\n",
        "$\n",
        "h = \\begin{pmatrix}\n",
        "0\\\\ \n",
        "0\\\\ \n",
        "0\\\\ 0\n",
        "\\end{pmatrix}\n",
        "$\n",
        "\n",
        "And the equality constraint into the form $A\\lambda = b$ as follows:\n",
        "\n",
        "$A = \\begin{pmatrix}\n",
        "1 & 1 & 1 & 1 \\\\ \n",
        "\\end{pmatrix}$\n",
        "\n",
        "and the vector b:\n",
        "\n",
        "$\n",
        "b = \\begin{pmatrix}\n",
        "1\n",
        "\\end{pmatrix}\n",
        "$\n",
        "\n",
        "This ensures that the sum of the $\\lambda_i$ equals 1 and all entries are above nonnegative.\n",
        "\n",
        "Below we implement this, and we assume a new vector is in the complex hull if the QP problem has a loss smaller than 1e-5.\n",
        "\n",
        "Note the definitions of the following variables in the code below to keep it the same as in [the example](https://scaron.info/blog/quadratic-programming-in-python.html) that I used.\n",
        "- $\\mathbf{P} := \\mathbf{X}\\mathbf{X}^T$\n",
        "- $\\mathbf{q} := -\\mathbf{X}\\mathbf{y}$"
      ]
    },
    {
      "cell_type": "code",
      "metadata": {
        "id": "UQBANKMmIs60"
      },
      "source": [
        "def cvxopt_solve_qp(P, q, G=None, h=None, A=None, b=None):\n",
        "  \"Copied from https://scaron.info/blog/quadratic-programming-in-python.html\"\n",
        "  P = .5 * (P + P.T)  # make sure P is symmetric\n",
        "  args = [cvxopt.matrix(P), cvxopt.matrix(q)]\n",
        "  if G is not None:\n",
        "      args.extend([cvxopt.matrix(G), cvxopt.matrix(h)])\n",
        "      if A is not None:\n",
        "          args.extend([cvxopt.matrix(A), cvxopt.matrix(b)])\n",
        "  sol = cvxopt.solvers.qp(*args)\n",
        "  if 'optimal' not in sol['status']:  # Failed\n",
        "      return np.array([-10] * P.shape[1]).reshape((P.shape[1],))\n",
        "  return np.array(sol['x']).reshape((P.shape[1],))\n",
        "  \n",
        "def is_in_convex_hull_qp(new_sample: np.array, hull_samples: np.array) -> bool:\n",
        "  \"\"\"\n",
        "  :param new_sample: [num_dimensions]\n",
        "  :param hull_samples: [num_hull_samples, num_dimensions]\n",
        "\n",
        "  Calcs for `new_sample` whether it lies in the convex hull of `hull_samples`.\n",
        "  \"\"\"\n",
        "  num_hull_samples = len(hull_samples)\n",
        "  num_dimensions = len(new_sample)\n",
        "\n",
        "  # Define the QP problem.\n",
        "  P = np.dot(hull_samples, hull_samples.T).astype(np.double)\n",
        "  q = -np.dot(hull_samples, new_sample).astype(np.double)\n",
        "\n",
        "  G = -np.identity(num_hull_samples)\n",
        "  h = np.array([0] * num_hull_samples).astype(np.double)\n",
        "\n",
        "  A = np.ones([1, num_hull_samples]).astype(np.double)\n",
        "  b = np.array([1]).astype(np.double)\n",
        "\n",
        "  result = cvxopt_solve_qp(P, q, G, h, A, b)\n",
        "\n",
        "  def loss(l_i, sign=1., y=new_sample, X=hull_samples):\n",
        "    return sign * np.dot((y - np.dot(X.T, l_i)).T, (y - np.dot(X.T, l_i)))\n",
        "\n",
        "  l = loss(result)\n",
        "  if l < 1e-5:\n",
        "    return True\n",
        "  else:\n",
        "    return False\n",
        "\n",
        "def probability_in_convex_hull_qp(new_samples: np.array, \n",
        "                                  hull_samples: np.array) -> float:\n",
        "  \"\"\"\n",
        "  The first dimension is the number of new samples, the second dimension\n",
        "  is the dimensionality of the sample. Returns the estimated probability\n",
        "  that a new sample lies in the convex hull of `hull_samples`.\n",
        "  \"\"\"\n",
        "  in_convex_hull = np.zeros([new_samples.shape[0]])\n",
        "  for i in range(len(new_samples)):\n",
        "    new_sample = new_samples[i, :]\n",
        "    vec_in_convex_hull = is_in_convex_hull_qp(new_sample, hull_samples)\n",
        "    in_convex_hull[i] = vec_in_convex_hull\n",
        "  return np.sum(in_convex_hull) / new_samples.shape[0]"
      ],
      "execution_count": 24,
      "outputs": []
    },
    {
      "cell_type": "markdown",
      "metadata": {
        "id": "-jU_f8kqTT0w"
      },
      "source": [
        "Let's test it for the example points and convex hull that we also used below (probability should be $\\frac{1}{4}$)."
      ]
    },
    {
      "cell_type": "code",
      "metadata": {
        "colab": {
          "base_uri": "https://localhost:8080/"
        },
        "id": "o5c4qKjPLsJp",
        "outputId": "9e8557cc-6bfe-4b2a-bae5-6274bb0f9b58"
      },
      "source": [
        "print(\"Probability inside hull (quadratic programming method): \", probability_in_convex_hull_qp(points, hull_samples))"
      ],
      "execution_count": 25,
      "outputs": [
        {
          "output_type": "stream",
          "name": "stdout",
          "text": [
            "Probability inside hull (quadratic programming method):  0.25\n"
          ]
        }
      ]
    },
    {
      "cell_type": "markdown",
      "metadata": {
        "id": "4TQ4OeWhBjwa"
      },
      "source": [
        "So let's reproduce the figure. Below we sample a new spline for every ambient dimension $d = \\{2, \\dots, 7\\}$, and then for 10 different $N$ we sample from this same spline the convex hull samples and the new vectors. We see whether these new vectors are in the convex hull with QP and calculate the probability.\n",
        "\n",
        "**CAVEAT**: The code below is *incredibly* slow, because of the new method of finding whether a point is in the convex hull used; framing it as a QP problem. The paper does 500000 trials, but below we do just 100, to be a bit faster (runs in a few minutes). It still works, but obviously the estimate is much worse."
      ]
    },
    {
      "cell_type": "code",
      "metadata": {
        "colab": {
          "base_uri": "https://localhost:8080/"
        },
        "id": "7xOvcc_NR5KZ",
        "outputId": "9c0fdae0-15eb-43a7-9ea8-1a5e09d00398"
      },
      "source": [
        "ambient_dimensions = list(range(2, 8))\n",
        "num_dataset_sizes = 10\n",
        "num_convex_hull_samples_per_d = [np.logspace(0.5, 1.8, num_dataset_sizes),\n",
        "                                 np.logspace(1, 2, num_dataset_sizes),\n",
        "                                 np.logspace(1.2, 2.1, num_dataset_sizes),\n",
        "                                 np.logspace(1.5, 2.2, num_dataset_sizes),\n",
        "                                 np.logspace(2, 2.5, num_dataset_sizes),\n",
        "                                 np.logspace(2.1, 3, num_dataset_sizes)]\n",
        "\n",
        "num_trials = 100\n",
        "\n",
        "def get_convex_hull_probability(manifold_spline, num_trials: int, \n",
        "                                dataset_size: int, \n",
        "                                ambient_dimension: int) -> float:\n",
        "  # Get the samples to form the convex hull.\n",
        "  hull_samples = manifold_spline(np.random.uniform(low=0, high=1,\n",
        "                                                   size=dataset_size))\n",
        "\n",
        "  # Get new samples from the manifold.                          \n",
        "  new_samples = manifold_spline(np.random.uniform(low=0, high=1,\n",
        "                                                  size=num_trials))\n",
        "\n",
        "  # Estimate the probability that a new sample lies in the convex hull.\n",
        "  p_new_samples_in_hull = probability_in_convex_hull_qp(\n",
        "      new_samples=new_samples.transpose(),\n",
        "      hull_samples=hull_samples.transpose())\n",
        "  return p_new_samples_in_hull\n",
        "\n",
        "# Loop over all ambient dimensions.\n",
        "all_probabilities_2 = np.zeros([len(ambient_dimensions),\n",
        "                                num_dataset_sizes])\n",
        "for dimension_idx, dimension in enumerate(ambient_dimensions):\n",
        "  print(\"Working on %d-D\" % dimension)\n",
        "  dataset_sizes = num_convex_hull_samples_per_d[dimension_idx]\n",
        "\n",
        "  # Sample a new spline for this ambient dimension.\n",
        "  spline = construct_one_dimensional_manifold(ambient_dimension=dimension)\n",
        "\n",
        "  # Loop over the different dataset sizes.\n",
        "  for size_idx, dataset_size in enumerate(dataset_sizes):\n",
        "\n",
        "    # Estimate the probability\n",
        "    probability_in_hull = get_convex_hull_probability(spline, num_trials,\n",
        "                                                      int(dataset_size),\n",
        "                                                      dimension)\n",
        "    all_probabilities_2[dimension_idx, size_idx] = probability_in_hull"
      ],
      "execution_count": 30,
      "outputs": [
        {
          "output_type": "stream",
          "name": "stdout",
          "text": [
            "Working on 2-D\n",
            "Working on 3-D\n",
            "Working on 4-D\n",
            "Working on 5-D\n",
            "Working on 6-D\n",
            "Working on 7-D\n"
          ]
        }
      ]
    },
    {
      "cell_type": "markdown",
      "metadata": {
        "id": "YlIdke5fUn4N"
      },
      "source": [
        "Let's plot it."
      ]
    },
    {
      "cell_type": "code",
      "metadata": {
        "colab": {
          "base_uri": "https://localhost:8080/",
          "height": 300
        },
        "id": "1F1WGuBoi8h-",
        "outputId": "9ef5fa27-6139-4e52-e1ba-e5bc70339f10"
      },
      "source": [
        "plot_probabilities(num_convex_hull_samples_per_d, \n",
        "                   ambient_dimensions, \n",
        "                   all_probabilities_2)\n",
        "plt.show()"
      ],
      "execution_count": 33,
      "outputs": [
        {
          "output_type": "display_data",
          "data": {
            "image/png": "[encoded data removed]",
            "text/plain": [
              "<Figure size 432x288 with 6 Axes>"
            ]
          },
          "metadata": {
            "needs_background": "light"
          }
        }
      ]
    },
    {
      "cell_type": "markdown",
      "metadata": {
        "id": "3wGzDR5frySy"
      },
      "source": [
        "So now we see, even though our data points are all sampled from a 1D data manifold, namely a spline, because the actual ambient dimension still goes up, to keep the probability of sampling a point within the convex hull the same you need to again get exponentially more data."
      ]
    },
    {
      "cell_type": "markdown",
      "metadata": {
        "id": "bsiM91hn2Qc0"
      },
      "source": [
        "# Reproducing the third plot\n",
        "\n",
        "The final plot requires the introduction of some new terminology; it's the plot that answers the question: \n",
        "\"so how can we control the probability of interpolating, i.e. of a new sample lying in the convex hull\"? \n",
        "The answer is (somewhat unsurprisingly now); by keeping the *dimensions of the convex\n",
        "hull* the same. The convex hull dimension, also referred to as the dimension of the lowest dimensional affine\n",
        "subspace including the entire data manifold in the paper, is the dimension of the convex hull of the data points.\n",
        "Recall the discussion of what the convex hull is above? Imagine if you take two datapoints, that happen\n",
        "to lie on a line in $\\mathbb{R}^3$. The ambient dimension is 3, but the convex hull dimension is 1; it's a line.\n",
        "If we take 4 points that lie on a plane, we have ambient dimension of 3 and convex hull\n",
        "dimension of 2. Finally, if we take the full set of 8 data points, like the plot below, we get a convex hull dimension of 3, which equals\n",
        " the ambient dimension. This convex hull dimension is denoted by $d^*$ in the paper."
      ]
    },
    {
      "cell_type": "code",
      "metadata": {
        "colab": {
          "base_uri": "https://localhost:8080/",
          "height": 248
        },
        "id": "Mq9sDr9BH8lZ",
        "outputId": "bcfd5a66-d970-471c-90d9-291e607e9f99"
      },
      "source": [
        "fig = plt.figure()\n",
        "ax = plt.axes(projection='3d')\n",
        "\n",
        "X = np.array([1, 2, 2, 1, 1, 2, 2, 1])\n",
        "Y = np.array([1, 1, 2, 2, 1, 1, 2, 2])\n",
        "Z = np.array([1, 1, 1, 1, 2, 2, 2, 2])\n",
        "\n",
        "ax.set_xlim(0, 3)\n",
        "ax.set_ylim(0, 3)\n",
        "ax.set_zlim(0, 3)\n",
        "\n",
        "# Plot the box around the convex hull.\n",
        "ax.plot(X, Y, Z, 'o', c='navy', zorder=7.5)\n",
        "for i in range(4):\n",
        "  idx = i\n",
        "  idx_right = (idx + 1) % 4\n",
        "  ax.plot([X[idx], X[idx_right]],\n",
        "          [Y[idx], Y[idx_right]],\n",
        "          [Z[idx], Z[idx_right]], color = 'k', zorder=10)\n",
        "  ax.plot([X[idx+4], X[idx_right+4]],\n",
        "          [Y[idx+4], Y[idx_right+4]],\n",
        "          [Z[idx+4], Z[idx_right+4]], color = 'k', zorder=10)\n",
        "  ax.plot([X[idx], X[idx_right+3]],\n",
        "          [Y[idx], Y[idx_right+3]],\n",
        "          [Z[idx], Z[idx_right+3]], color = 'k', zorder=10)\n",
        "plt.show()"
      ],
      "execution_count": 26,
      "outputs": [
        {
          "output_type": "display_data",
          "data": {
            "image/png": "[encoded data removed]",
            "text/plain": [
              "<Figure size 432x288 with 1 Axes>"
            ]
          },
          "metadata": {
            "needs_background": "light"
          }
        }
      ]
    },
    {
      "cell_type": "markdown",
      "metadata": {
        "id": "mMgCeAZZiqS9"
      },
      "source": [
        "For the third plot, we want to keep the convex hull dimensions the same, namely\n",
        "a 4D Gaussian like in the paper,\n",
        "but increase only the ambient dimension. To increase the ambient dimension without increasing the convex hull dimension, we can simply multiply the data points of a lower dimension with an invertible matrix of the desired dimension. This way we won't increase the convex hull dimension (since $rank(AB) = \\min(rank(A), rank(B))$), but we will increase the ambient dimension. We're basically just embedding a 4D gaussian into a higher dimensional space.\n",
        "\n",
        "To get a random invertible matrix of $d\\times d$ we just sample $d$ times from a $d$-dimensional Gaussian again, which roughly guarantees to give an invertible matrix (with the same intuition as above; it's unlikely you'll sample a linearly dependent point)."
      ]
    },
    {
      "cell_type": "code",
      "metadata": {
        "id": "aJxwoceMk3qC"
      },
      "source": [
        "def is_invertible(matrix: np.array):\n",
        "  assert matrix.shape[0] == matrix.shape[1], \"Non-square matrix cannot be \" \\\n",
        "  \"invertible.\"\n",
        "  if np.linalg.cond(matrix) < 1 / sys.float_info.epsilon:\n",
        "    return True\n",
        "  else:\n",
        "    return False\n",
        "\n",
        "def get_invertible_matrix(num_dimensions: int):\n",
        "  matrix = sample_from_gaussian(num_dimensions, num_dimensions)\n",
        "  if is_invertible(matrix):\n",
        "    return matrix\n",
        "  else:\n",
        "    raise ValueError(\"Sampled non-invertible matrix.\")\n",
        "\n",
        "def make_d_dimensions(samples: np.array, invertible_matrix: np.array,\n",
        "                      new_dimensions: int) -> np.array:\n",
        "  \"\"\"\n",
        "  samples: [num_samples, num_dimensions]\n",
        "  invertible_matrix: [new_dimensions, new_dimensions]\n",
        "  new_dimensions: the number of output dimensions\n",
        "\n",
        "  Uses an invertible matrix to project input samples into a higher dimensional\n",
        "  space.\n",
        "  \n",
        "  Returns: \n",
        "    [num_samples, new_dimensions] the new samples in a higher dimension\n",
        "    [new_dimensions, new_dimensions] the transformation matrix used\n",
        "  \"\"\"\n",
        "  assert len(samples.shape) == 2, \"Need 2D matrix for argument 'samples'.\"\n",
        "  assert new_dimensions > samples.shape[1], \\\n",
        "  \"Cannot increase to %d dimensions if existing dimensions is %d\" % (\n",
        "      new_dimensions, samples.shape[1])\n",
        "  existing_dimensions = samples.shape[1]\n",
        "  extra_dimensions = new_dimensions - existing_dimensions\n",
        "  \n",
        "  # We add columns of zeros to the samples to be able to multiple\n",
        "  # them with the right dimension invertible matrix.\n",
        "  add_zeros = np.zeros([samples.shape[0], extra_dimensions])\n",
        "  concat_samples = np.concatenate([samples, add_zeros], axis=1)\n",
        "  \n",
        "  # Transform the samples into a higher-dimensional space.\n",
        "  new_samples = np.dot(concat_samples, invertible_matrix)\n",
        "  \n",
        "  # Check that we can recover the old samples.\n",
        "  old_samples_recovered = np.dot(new_samples, np.linalg.inv(invertible_matrix))\n",
        "  assert np.allclose(old_samples_recovered, concat_samples)\n",
        "  \n",
        "  return new_samples\n",
        "\n",
        "def sample_4d_gaussian(num_samples: int, invertible_matrix: np.array,\n",
        "                       ambient_dimension: int):\n",
        "  \"\"\"Samples data with a convex hull dimension of 4 and an ambient dimension\n",
        "  of `ambient_dimension`.\"\"\"\n",
        "  gaussian_samples = sample_from_gaussian(num_samples=num_samples, \n",
        "                                          num_dimensions=4)\n",
        "  return make_d_dimensions(gaussian_samples, invertible_matrix, \n",
        "                           new_dimensions=ambient_dimension)"
      ],
      "execution_count": 28,
      "outputs": []
    },
    {
      "cell_type": "markdown",
      "metadata": {
        "id": "9Why4FWGsasn"
      },
      "source": [
        "With the above code we can sample from a 4D Gaussian and embed the points into a higher dimensional space. So now we can reproduce the third plot."
      ]
    },
    {
      "cell_type": "code",
      "metadata": {
        "colab": {
          "base_uri": "https://localhost:8080/"
        },
        "id": "bJQx9HaMV1KZ",
        "outputId": "8d6dcd25-0205-4056-f34e-44fd7ef8f21a"
      },
      "source": [
        "ambient_dimensions = list(range(5, 8))\n",
        "num_dataset_sizes = 10\n",
        "num_convex_hull_samples_per_d = [np.logspace(1, 2, num_dataset_sizes),\n",
        "                                 np.logspace(1, 2, num_dataset_sizes),\n",
        "                                 np.logspace(1, 2, num_dataset_sizes)]\n",
        "\n",
        "num_trials = 1000\n",
        "\n",
        "def get_convex_hull_probability(num_trials: int, dataset_size: int, \n",
        "                                ambient_dimension: int) -> float:\n",
        "  # Sample the invertible matrix for this ambient dimension.\n",
        "  matrix = get_invertible_matrix(ambient_dimension)\n",
        "  \n",
        "  # Get the convex hull samples of.\n",
        "  hull_samples = sample_4d_gaussian(num_samples=dataset_size, \n",
        "                                    invertible_matrix=matrix,\n",
        "                                    ambient_dimension=ambient_dimension)\n",
        "  \n",
        "  # Get the new samples.\n",
        "  new_samples = sample_4d_gaussian(num_samples=num_trials, \n",
        "                                   invertible_matrix=matrix,\n",
        "                                   ambient_dimension=ambient_dimension)\n",
        "  \n",
        "  # Estimate the probability of lying in the convex hull.\n",
        "  p_new_samples_in_hull = probability_in_convex_hull_qp(\n",
        "      new_samples=new_samples,\n",
        "      hull_samples=hull_samples)\n",
        "  return p_new_samples_in_hull\n",
        "\n",
        "all_probabilities_3 = np.zeros([len(ambient_dimensions),\n",
        "                                num_dataset_sizes])\n",
        "for dimension_idx, dimension in enumerate(ambient_dimensions):\n",
        "  print(\"Working on %d-D\" % dimension)\n",
        "  dataset_sizes = num_convex_hull_samples_per_d[dimension_idx]\n",
        "  for size_idx, dataset_size in enumerate(dataset_sizes):\n",
        "    probability_in_hull = get_convex_hull_probability(num_trials,\n",
        "                                                      int(dataset_size),\n",
        "                                                      dimension)\n",
        "    all_probabilities_3[dimension_idx, size_idx] = probability_in_hull"
      ],
      "execution_count": 29,
      "outputs": [
        {
          "output_type": "stream",
          "name": "stdout",
          "text": [
            "Working on 5-D\n",
            "Working on 6-D\n",
            "Working on 7-D\n"
          ]
        }
      ]
    },
    {
      "cell_type": "code",
      "metadata": {
        "colab": {
          "base_uri": "https://localhost:8080/",
          "height": 313
        },
        "id": "L4BVMKb5WjEU",
        "outputId": "930d0cda-0714-494d-dbc3-a270679b2b4e"
      },
      "source": [
        "plot_probabilities(num_convex_hull_samples_per_d, \n",
        "                   ambient_dimensions, \n",
        "                   all_probabilities_3)\n",
        "plt.show()"
      ],
      "execution_count": 36,
      "outputs": [
        {
          "output_type": "display_data",
          "data": {
            "image/png": "[encoded data removed]",
            "text/plain": [
              "<Figure size 432x288 with 3 Axes>"
            ]
          },
          "metadata": {
            "needs_background": "light"
          }
        }
      ]
    },
    {
      "cell_type": "code",
      "metadata": {
        "id": "dXWY7qX2Wsrj"
      },
      "source": [
        ""
      ],
      "execution_count": null,
      "outputs": []
    }
  ]
}